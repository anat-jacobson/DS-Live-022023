{
 "cells": [
  {
   "cell_type": "markdown",
   "metadata": {},
   "source": [
    "# Data Visualization"
   ]
  },
  {
   "cell_type": "markdown",
   "metadata": {
    "heading_collapsed": true
   },
   "source": [
    "## Learning Goals"
   ]
  },
  {
   "cell_type": "markdown",
   "metadata": {
    "hidden": true
   },
   "source": [
    "- Understand why we visualize data\n",
    "- Recognize the different `matplotlib`-based ways we can create visualizations\n",
    "- Choose appropriate graph types based on data and problem context for explanatory visualizations\n",
    "- Use `matplotlib` syntax to adjust elements and improve visualizations\n",
    "- Create figures containing multiple graphs\n"
   ]
  },
  {
   "cell_type": "code",
   "execution_count": 1,
   "metadata": {},
   "outputs": [],
   "source": [
    "# Imports\n",
    "import pandas as pd\n",
    "import numpy as np\n",
    "\n",
    "import matplotlib.pyplot as plt\n",
    "# same as \n",
    "# from matplotlib import pyplot as plt\n",
    "\n",
    "import seaborn as sns\n",
    "\n",
    "from scipy import stats\n",
    "from sklearn.datasets import load_iris"
   ]
  },
  {
   "cell_type": "markdown",
   "metadata": {
    "heading_collapsed": true
   },
   "source": [
    "## Visualization Motivation: Why Visualize Data?"
   ]
  },
  {
   "cell_type": "markdown",
   "metadata": {
    "hidden": true
   },
   "source": [
    "Why can’t we just hand someone a table of data?"
   ]
  },
  {
   "cell_type": "markdown",
   "metadata": {
    "hidden": true
   },
   "source": [
    "Let's load up the iris data set.  This is a famous built-in dataset which is used to learn about categorization. "
   ]
  },
  {
   "cell_type": "code",
   "execution_count": null,
   "metadata": {
    "hidden": true
   },
   "outputs": [],
   "source": [
    "# This iris dataset comes bundled with sklearn\n",
    "data = load_iris()\n",
    "df_iris = pd.DataFrame(data['data'], columns=data['feature_names'])\n",
    "df_iris['target'] = data['target']"
   ]
  },
  {
   "cell_type": "markdown",
   "metadata": {
    "hidden": true
   },
   "source": [
    "Here is an image of one of the virginica iris, which is unique in its relative petal and sepal length."
   ]
  },
  {
   "cell_type": "markdown",
   "metadata": {
    "hidden": true
   },
   "source": [
    "![virginica_iris](images/iris_virginica.jpg)"
   ]
  },
  {
   "cell_type": "markdown",
   "metadata": {
    "heading_collapsed": true,
    "hidden": true
   },
   "source": [
    "### Dataframe vs. Statistics vs. Graph: Which do you prefer?"
   ]
  },
  {
   "cell_type": "code",
   "execution_count": null,
   "metadata": {
    "hidden": true
   },
   "outputs": [],
   "source": [
    "# Five random rows of the iris dataset\n"
   ]
  },
  {
   "cell_type": "markdown",
   "metadata": {},
   "source": [
    "What information in this dataframe jumps out to you?\n",
    "\n",
    "- \n"
   ]
  },
  {
   "cell_type": "code",
   "execution_count": null,
   "metadata": {},
   "outputs": [],
   "source": [
    "# Summary statistics of the iris dataset\n"
   ]
  },
  {
   "cell_type": "markdown",
   "metadata": {},
   "source": [
    "What information in this summary statistics table jumps out to you?\n",
    "\n",
    "- \n"
   ]
  },
  {
   "cell_type": "code",
   "execution_count": null,
   "metadata": {
    "hidden": true
   },
   "outputs": [],
   "source": [
    "# Now, let's plot two variables from the iris dataset\n",
    "fig, ax = plt.subplots(figsize=(8, 5))\n",
    "\n",
    "# Use seaborn to plot two facets of the above data, colored by the target column\n",
    "sns.scatterplot(x='sepal length (cm)', y='petal length (cm)', hue='target', data=df_iris)\n",
    "\n",
    "ax.set_title('Petal Length vs Sepal Length for Three Species of Flowers')\n",
    "ax.legend();"
   ]
  },
  {
   "cell_type": "markdown",
   "metadata": {
    "hidden": true
   },
   "source": [
    "What information in this graph jumps out to you?\n",
    "\n",
    "- \n"
   ]
  },
  {
   "cell_type": "markdown",
   "metadata": {},
   "source": [
    "### Visualizing for Yourself vs. Visualizing for Others"
   ]
  },
  {
   "cell_type": "markdown",
   "metadata": {},
   "source": [
    "An important point: you're going to be creating two kinds of visualizations - ones you create for yourself, to explore your own data, and ones you create for others, to share your findings.\n",
    "\n",
    "AKA: **exploratory** vs **explanatory** plots!\n",
    "\n",
    "Our goal with **exploratory** visualizations is to better understand the data, and we often don't really intend to share these plots - but you should still get in the habit of labeling your plots and writing out your findings and observations (either in markdown/code comments or using titles/annotation on the plots)! This will help you quickly get up to speed when you revisit your work later, or will be helpful when others stumble upon your work.\n",
    "\n",
    "Our goal in **explanatory** visualizations is to convey/communicate insight(s) effectively to our audience. That audience can be other data scientists but can also be stakeholders unfamiliar with data analysis or statistical concepts.\n",
    "\n",
    "Our goal today is to help you be able to create both!"
   ]
  },
  {
   "cell_type": "markdown",
   "metadata": {
    "heading_collapsed": true,
    "hidden": true
   },
   "source": [
    "## Plotting Syntax"
   ]
  },
  {
   "cell_type": "markdown",
   "metadata": {},
   "source": [
    "Let's read in some new data:"
   ]
  },
  {
   "cell_type": "code",
   "execution_count": 2,
   "metadata": {
    "hidden": true
   },
   "outputs": [],
   "source": [
    "# This is a default dataset that comes bundled with seaborn\n",
    "penguins = sns.load_dataset('penguins')"
   ]
  },
  {
   "cell_type": "code",
   "execution_count": 3,
   "metadata": {
    "hidden": true
   },
   "outputs": [
    {
     "data": {
      "text/html": [
       "<div>\n",
       "<style scoped>\n",
       "    .dataframe tbody tr th:only-of-type {\n",
       "        vertical-align: middle;\n",
       "    }\n",
       "\n",
       "    .dataframe tbody tr th {\n",
       "        vertical-align: top;\n",
       "    }\n",
       "\n",
       "    .dataframe thead th {\n",
       "        text-align: right;\n",
       "    }\n",
       "</style>\n",
       "<table border=\"1\" class=\"dataframe\">\n",
       "  <thead>\n",
       "    <tr style=\"text-align: right;\">\n",
       "      <th></th>\n",
       "      <th>species</th>\n",
       "      <th>island</th>\n",
       "      <th>bill_length_mm</th>\n",
       "      <th>bill_depth_mm</th>\n",
       "      <th>flipper_length_mm</th>\n",
       "      <th>body_mass_g</th>\n",
       "      <th>sex</th>\n",
       "    </tr>\n",
       "  </thead>\n",
       "  <tbody>\n",
       "    <tr>\n",
       "      <th>0</th>\n",
       "      <td>Adelie</td>\n",
       "      <td>Torgersen</td>\n",
       "      <td>39.1</td>\n",
       "      <td>18.7</td>\n",
       "      <td>181.0</td>\n",
       "      <td>3750.0</td>\n",
       "      <td>Male</td>\n",
       "    </tr>\n",
       "    <tr>\n",
       "      <th>1</th>\n",
       "      <td>Adelie</td>\n",
       "      <td>Torgersen</td>\n",
       "      <td>39.5</td>\n",
       "      <td>17.4</td>\n",
       "      <td>186.0</td>\n",
       "      <td>3800.0</td>\n",
       "      <td>Female</td>\n",
       "    </tr>\n",
       "    <tr>\n",
       "      <th>2</th>\n",
       "      <td>Adelie</td>\n",
       "      <td>Torgersen</td>\n",
       "      <td>40.3</td>\n",
       "      <td>18.0</td>\n",
       "      <td>195.0</td>\n",
       "      <td>3250.0</td>\n",
       "      <td>Female</td>\n",
       "    </tr>\n",
       "    <tr>\n",
       "      <th>3</th>\n",
       "      <td>Adelie</td>\n",
       "      <td>Torgersen</td>\n",
       "      <td>NaN</td>\n",
       "      <td>NaN</td>\n",
       "      <td>NaN</td>\n",
       "      <td>NaN</td>\n",
       "      <td>NaN</td>\n",
       "    </tr>\n",
       "    <tr>\n",
       "      <th>4</th>\n",
       "      <td>Adelie</td>\n",
       "      <td>Torgersen</td>\n",
       "      <td>36.7</td>\n",
       "      <td>19.3</td>\n",
       "      <td>193.0</td>\n",
       "      <td>3450.0</td>\n",
       "      <td>Female</td>\n",
       "    </tr>\n",
       "  </tbody>\n",
       "</table>\n",
       "</div>"
      ],
      "text/plain": [
       "  species     island  bill_length_mm  bill_depth_mm  flipper_length_mm  \\\n",
       "0  Adelie  Torgersen            39.1           18.7              181.0   \n",
       "1  Adelie  Torgersen            39.5           17.4              186.0   \n",
       "2  Adelie  Torgersen            40.3           18.0              195.0   \n",
       "3  Adelie  Torgersen             NaN            NaN                NaN   \n",
       "4  Adelie  Torgersen            36.7           19.3              193.0   \n",
       "\n",
       "   body_mass_g     sex  \n",
       "0       3750.0    Male  \n",
       "1       3800.0  Female  \n",
       "2       3250.0  Female  \n",
       "3          NaN     NaN  \n",
       "4       3450.0  Female  "
      ]
     },
     "execution_count": 3,
     "metadata": {},
     "output_type": "execute_result"
    }
   ],
   "source": [
    "penguins.head()"
   ]
  },
  {
   "cell_type": "markdown",
   "metadata": {},
   "source": [
    "### Pandas `.plot`\n",
    "\n",
    "Let's start with the simplest way to plot data - using pandas built-in methods.\n",
    "\n",
    "Documentation! https://pandas.pydata.org/docs/reference/api/pandas.DataFrame.plot.html\n",
    "\n",
    "Goal: Create a scatterplot showing flipper_length_mm and body_mass_g."
   ]
  },
  {
   "cell_type": "code",
   "execution_count": 4,
   "metadata": {
    "scrolled": false
   },
   "outputs": [
    {
     "data": {
      "text/plain": [
       "<AxesSubplot:xlabel='flipper_length_mm', ylabel='body_mass_g'>"
      ]
     },
     "execution_count": 4,
     "metadata": {},
     "output_type": "execute_result"
    },
    {
     "data": {
      "image/png": "[encoded data removed]",
      "text/plain": [
       "<Figure size 432x288 with 1 Axes>"
      ]
     },
     "metadata": {
      "needs_background": "light"
     },
     "output_type": "display_data"
    }
   ],
   "source": [
    "# Simple way to throw a plot on top of data\n",
    "penguins.plot(x='flipper_length_mm', y = 'body_mass_g', kind = 'scatter')"
   ]
  },
  {
   "cell_type": "code",
   "execution_count": 5,
   "metadata": {},
   "outputs": [
    {
     "data": {
      "text/plain": [
       "<AxesSubplot:xlabel='flipper_length_mm', ylabel='body_mass_g'>"
      ]
     },
     "execution_count": 5,
     "metadata": {},
     "output_type": "execute_result"
    },
    {
     "data": {
      "image/png": "[encoded data removed]",
      "text/plain": [
       "<Figure size 432x288 with 1 Axes>"
      ]
     },
     "metadata": {
      "needs_background": "light"
     },
     "output_type": "display_data"
    }
   ],
   "source": [
    "# Can also specify the kind of plot this way\n",
    "penguins.plot.scatter(x= 'flipper_length_mm',y = 'body_mass_g')"
   ]
  },
  {
   "cell_type": "markdown",
   "metadata": {},
   "source": [
    "This is a pretty simple way to plot data - it's based on matplotlib, there are a good amount of options you can pass to play around with it, and you can stack this with matplotlib functions to do things like add titles or axis labels.\n",
    "\n",
    "This is a good option if you are exploring data."
   ]
  },
  {
   "cell_type": "markdown",
   "metadata": {},
   "source": [
    "### Seaborn\n",
    "\n",
    "Seaborn, like pandas plotting, is built on top of matplotlib, and is designed to make certain things you might want to try or explore a bit easier.\n",
    "\n",
    "Documentation! https://seaborn.pydata.org/api.html"
   ]
  },
  {
   "cell_type": "code",
   "execution_count": 8,
   "metadata": {},
   "outputs": [
    {
     "data": {
      "image/png": "[encoded data removed]",
      "text/plain": [
       "<Figure size 432x288 with 1 Axes>"
      ]
     },
     "metadata": {
      "needs_background": "light"
     },
     "output_type": "display_data"
    }
   ],
   "source": [
    "# Recreate the same plot in seaborn\n",
    "sns.scatterplot(x='flipper_length_mm', y ='body_mass_g', data= penguins), ;"
   ]
  },
  {
   "cell_type": "markdown",
   "metadata": {},
   "source": [
    "One nice thing about seaborn is that many of their plots take the 'hue' argument, which effortlessly designates a category with colors:"
   ]
  },
  {
   "cell_type": "code",
   "execution_count": 9,
   "metadata": {},
   "outputs": [
    {
     "data": {
      "image/png": "[encoded data removed]",
      "text/plain": [
       "<Figure size 432x288 with 1 Axes>"
      ]
     },
     "metadata": {
      "needs_background": "light"
     },
     "output_type": "display_data"
    }
   ],
   "source": [
    "# Color by penguin species\n",
    "\n",
    "sns.scatterplot(x='flipper_length_mm', y ='body_mass_g', data= penguins, hue ='species'), ;"
   ]
  },
  {
   "cell_type": "markdown",
   "metadata": {},
   "source": [
    "Seaborn can be great for both kinds of plots - they're easy to put together and make exploring data pretty efficient, and their default plots often look nice effortlessly. "
   ]
  },
  {
   "cell_type": "markdown",
   "metadata": {},
   "source": [
    "### Matplotlib\n",
    "\n",
    "At the end of the day, these other plotting methods are all built on top of matplotlib - thus, you have to get comfortable with matplotlib syntax in order to build more specific or more effective plots."
   ]
  },
  {
   "cell_type": "code",
   "execution_count": 12,
   "metadata": {
    "hidden": true
   },
   "outputs": [
    {
     "data": {
      "text/plain": [
       "Text(0.5, 1.0, 'Relationship Between Flipper Length and Body Mass Amongst Penguins')"
      ]
     },
     "execution_count": 12,
     "metadata": {},
     "output_type": "execute_result"
    },
    {
     "data": {
      "image/png": "[encoded data removed]",
      "text/plain": [
       "<Figure size 432x288 with 1 Axes>"
      ]
     },
     "metadata": {
      "needs_background": "light"
     },
     "output_type": "display_data"
    }
   ],
   "source": [
    "# This is one matplotlib syntax - the non-fig/ax method ##catch up here\n",
    "plt.figure(figsize = (6,4)),  \n",
    "plt.scatter(x=penguins['flipper_length_mm'], y = penguins['body_mass_g'])\n",
    "\n",
    "plt.xlabel('flipper Length (mm)')\n",
    "plt.ylabel('Body Mass (g)')\n",
    "plt.title('Relationship Between Flipper Length and Body Mass Amongst Penguins')"
   ]
  },
  {
   "cell_type": "code",
   "execution_count": null,
   "metadata": {
    "hidden": true
   },
   "outputs": [],
   "source": [
    "#THIS METHOD IS THE MOST CUSTOMIZABLE AND GIVES THE MOST FUNCTIONALITY\n",
    "#This is the other plotting syntax. Note that plt.subplots()\n",
    "# returns two things: the figure object and the axis object\n",
    "# This option gives you the MOST flexibility and access to matplotlib elements!\n",
    "fig,ax = plt.subplots(figsize=(6,4))\n",
    "\n",
    "ax.scatter(x=penguins['flipper_length_mm'], y=penguins['body_mass_g'])\n",
    "ax.set_xlabel('Flipper Length (mm)')\n",
    "ax.set_ylabel('Body Mass (g)') ##MISSING The rest here\n"
   ]
  },
  {
   "cell_type": "markdown",
   "metadata": {},
   "source": [
    "## Exploring Plot Types"
   ]
  },
  {
   "cell_type": "markdown",
   "metadata": {},
   "source": [
    "![image source: https://multimedia.journalism.berkeley.edu/tutorials/visualizing-data-a-guide-to-chart-types/](https://multimedia.journalism.berkeley.edu/wp-content/uploads/Screen-Shot-2016-08-11-at-1.34.23-PM.png)\n",
    "\n",
    "[Image Source](https://multimedia.journalism.berkeley.edu/tutorials/visualizing-data-a-guide-to-chart-types/)"
   ]
  },
  {
   "cell_type": "markdown",
   "metadata": {},
   "source": [
    "A nice overview!\n",
    "\n",
    "For a similar reference specifically for python plots, check out the [Python Graph Gallery](https://python-graph-gallery.com)   **Bookmark this Page!**\n",
    "\n",
    "You'll notice that these are sorted by what you want to showcase/demonstrate - the most important thing you should consider when starting to plot data is what exactly you're looking for or trying to say!"
   ]
  },
  {
   "cell_type": "markdown",
   "metadata": {},
   "source": [
    "# YOUR TURN"
   ]
  },
  {
   "cell_type": "markdown",
   "metadata": {},
   "source": [
    "## Picking Proper Plots"
   ]
  },
  {
   "cell_type": "markdown",
   "metadata": {},
   "source": [
    "Now that we've seen a few different visualizations, let's have a quick quiz in deciding would be a good plot for a given scenario:"
   ]
  },
  {
   "cell_type": "markdown",
   "metadata": {},
   "source": [
    "###  Scenario 1"
   ]
  },
  {
   "cell_type": "markdown",
   "metadata": {},
   "source": [
    "> **SCENARIO**: We have a company's past financial reports. We want to compare how a company's revenue has done over the past few years.\n",
    "\n",
    "🤔 _What type of visualization do you choose?_\n",
    "\n",
    "<details>\n",
    "    <summary>Possible Answers</summary>\n",
    "    <ul>\n",
    "        <li>Line Plot</li>\n",
    "        <li>Bar Chart</li>\n",
    "    </ul>\n",
    "</details>"
   ]
  },
  {
   "cell_type": "markdown",
   "metadata": {},
   "source": [
    "###  Scenario 2"
   ]
  },
  {
   "cell_type": "markdown",
   "metadata": {},
   "source": [
    "> **SCENARIO**: We're given a company's last quarterly report on sales from its  website. We want to show the number of orders broken down by the type of device the order was placed on.\n",
    "\n",
    "🤔 _What type of visualization do you choose?_\n",
    "\n",
    "<details>\n",
    "    <summary>Possible Answers</summary>\n",
    "    <ul>\n",
    "        <li>Bar Chart</li>\n",
    "        <li>Stacked Bar Chart</li>\n",
    "    </ul>\n",
    "</details>"
   ]
  },
  {
   "cell_type": "markdown",
   "metadata": {},
   "source": [
    "###  Scenario 3"
   ]
  },
  {
   "cell_type": "markdown",
   "metadata": {},
   "source": [
    "> **SCENARIO**: A food delivery service has a breakdown of this past week's orders. We want to show the relationship between the tips given in relation to the total bill.\n",
    "\n",
    "🤔 _What type of visualization do you choose?_\n",
    "\n",
    "<details>\n",
    "    <summary>Possible Answers</summary>\n",
    "    <ul>\n",
    "        <li>Scatter Plot</li>\n",
    "    </ul>\n",
    "</details>"
   ]
  },
  {
   "cell_type": "markdown",
   "metadata": {},
   "source": [
    "## Improving Visualizations"
   ]
  },
  {
   "cell_type": "markdown",
   "metadata": {},
   "source": [
    "### Accessible Visualizations!\n",
    "\n",
    "One of the BEST ways to think about improving your visualizations is by thinking about how to make your visualizations more accessible!\n",
    "\n",
    "PLEASE READ this excellent blog post walking through how to make your charts both more effective and more accessible to all: https://flourish.studio/blog/accessible-chart-design/\n",
    "\n",
    "Specifically, they focus on accessibility along three aspects of visualizations: Text, Color, and Animation (yes, there are ways to make animated plots in python!)\n",
    "\n",
    "A teaser (aka the first two paragraphs of the post):\n",
    "\n",
    "> When putting together a visualization or data story, it’s useful to remember that not everyone experiences the world as you do. A color palette that looks pretty to your eye might be difficult to differentiate for some viewers. Or a chart that you find easy to “read” might be hard to interpret for someone less data literate.\n",
    ">\n",
    "> This is a problem. If we don’t make our visuals accessible, not everyone can understand them, reducing their engagement and impact.\n"
   ]
  },
  {
   "cell_type": "markdown",
   "metadata": {},
   "source": [
    "### Getting Granular! \n",
    "\n",
    "In other words - how do we make specific changes to our plots?"
   ]
  },
  {
   "cell_type": "markdown",
   "metadata": {
    "hidden": true
   },
   "source": [
    "#### Anatomy of a `matplotlib` Figure\n",
    "\n",
    "<img src=\"images/matplotlib_anatomy.png\">"
   ]
  },
  {
   "cell_type": "markdown",
   "metadata": {
    "hidden": true
   },
   "source": [
    "Explanation of non-obvious terms:\n",
    "\n",
    "__Figure__ - This is the \"sheet of paper\" all of your graphing sits on. \n",
    "\n",
    "__Axis__ - An axis is an individual plot. You can have multiple axes on one figure\n",
    "\n",
    "__Major/Minor Ticks__ - The large and small dashes on the x and y axis\n",
    "\n",
    "__Markers__ - In a scatter plot each of the points is refered to as a marker\n",
    "\n",
    "__Spines__ - The lines that bound each axis"
   ]
  },
  {
   "cell_type": "markdown",
   "metadata": {
    "hidden": true
   },
   "source": [
    "#### Change color, opacity, marker size, and marker symbol\n",
    "\n",
    "Resources:\n",
    "- Named colors: https://matplotlib.org/3.1.0/gallery/color/named_colors.html\n",
    "- Marker symbols: https://matplotlib.org/3.2.1/api/markers_api.html"
   ]
  },
  {
   "cell_type": "code",
   "execution_count": 25,
   "metadata": {
    "hidden": true,
    "scrolled": false
   },
   "outputs": [
    {
     "data": {
      "image/png": "[encoded data removed]",
      "text/plain": [
       "<Figure size 432x288 with 1 Axes>"
      ]
     },
     "metadata": {
      "needs_background": "light"
     },
     "output_type": "display_data"
    }
   ],
   "source": [
    "fig, ax = plt.subplots(figsize=(6, 4))\n",
    "\n",
    "# These are all arguments that go in the plot's function\n",
    "ax.scatter(penguins['flipper_length_mm'], penguins['body_mass_g'],\n",
    "           c='deepskyblue',\n",
    "           alpha=0.50,\n",
    "           s=75,\n",
    "           marker='v')\n",
    "\n",
    "ax.set_xlabel('Flipper Length (mm)')\n",
    "ax.set_ylabel('Body Mass (g)')\n",
    "ax.set_title('Relationship Between Flipper Length and Body Mass among Penguins')\n",
    "\n",
    "plt.tight_layout()"
   ]
  },
  {
   "cell_type": "markdown",
   "metadata": {
    "hidden": true
   },
   "source": [
    "#### Can identify colors by hexadecimal code"
   ]
  },
  {
   "cell_type": "code",
   "execution_count": null,
   "metadata": {
    "hidden": true,
    "scrolled": false
   },
   "outputs": [],
   "source": [
    "fig, ax = plt.subplots(figsize=(6, 4)) ##catch up for all below \n",
    "\n",
    "ax.scatter(x=penguins['flipper_length_mm'], y=penguins['body_mass_g'],\n",
    "           c=None, #use hex code\n",
    "           alpha=None,\n",
    "           s=None,\n",
    "           marker=None)\n",
    "\n",
    "ax.set_xlabel('Flipper Length (mm)')\n",
    "ax.set_ylabel('Body Mass (g)')\n",
    "ax.set_title('Relationship Between Flipper Length and Body Mass among Penguins')\n",
    "\n",
    "plt.tight_layout()"
   ]
  },
  {
   "cell_type": "markdown",
   "metadata": {},
   "source": [
    "#### Add a third variable by setting the color (or size) equal to a third column"
   ]
  },
  {
   "cell_type": "code",
   "execution_count": null,
   "metadata": {
    "scrolled": false
   },
   "outputs": [],
   "source": [
    "fig, ax = plt.subplots(figsize=(6, 4)) \n",
    "\n",
    "# When you save the plot as a variable...\n",
    "scatter = ax.scatter(x=penguins['flipper_length_mm'], y=penguins['body_mass_g'],\n",
    "                     alpha=.7,\n",
    "                     c=None)\n",
    "\n",
    "ax.set_xlabel('Flipper Length (mm)')\n",
    "ax.set_ylabel('Body Mass (g)')\n",
    "ax.set_title('Relationship Between Flipper Length and Body Mass among Penguins')\n",
    "\n",
    "# You can then add a color bar as a legend!\n",
    "plt.colorbar(scatter, label='Culmen Depth (mm)')\n",
    "\n",
    "plt.tight_layout()"
   ]
  },
  {
   "cell_type": "markdown",
   "metadata": {},
   "source": [
    "#### Layer plots on top of each other, to provide potentially useful context"
   ]
  },
  {
   "cell_type": "code",
   "execution_count": null,
   "metadata": {},
   "outputs": [],
   "source": [
    "fig, ax = plt.subplots(figsize=(6, 4))\n",
    "\n",
    "ax.scatter(x=penguins['flipper_length_mm'], y=penguins['body_mass_g'])\n",
    "\n",
    "# Add the average flipper length as a vertical line\n",
    "# Can use label arguement to then create a legend\n",
    "None\n",
    "\n",
    "ax.set_xlabel('Flipper Length (mm)')\n",
    "ax.set_ylabel('Body Mass (g)')\n",
    "ax.set_title('Relationship Between Flipper Length and Body Mass among Penguins')\n",
    "\n",
    "# Add the legend\n",
    "plt.legend()\n",
    "plt.tight_layout()"
   ]
  },
  {
   "cell_type": "markdown",
   "metadata": {},
   "source": [
    "#### Annotate directly on the plot!"
   ]
  },
  {
   "cell_type": "code",
   "execution_count": null,
   "metadata": {
    "scrolled": true
   },
   "outputs": [],
   "source": [
    "fig, ax = plt.subplots(figsize=(6, 4))\n",
    "\n",
    "ax.scatter(x=penguins['flipper_length_mm'], y=penguins['body_mass_g'])\n",
    "\n",
    "# Add an annotation - needs what to write and then a location\n",
    "None\n",
    "\n",
    "ax.set_xlabel('Flipper Length (mm)')\n",
    "ax.set_ylabel('Body Mass (g)')\n",
    "ax.set_title('Relationship Between Flipper Length and Body Mass among Penguins')\n",
    "\n",
    "plt.tight_layout()"
   ]
  },
  {
   "cell_type": "code",
   "execution_count": null,
   "metadata": {},
   "outputs": [],
   "source": [
    "# More granular with the annotations...\n",
    "fig, ax = plt.subplots(figsize=(6, 4))\n",
    "\n",
    "ax.scatter(x=penguins['flipper_length_mm'], y=penguins['body_mass_g'])\n",
    "\n",
    "# Can use `text` to write on the plots as well (alternative to annotate, note the different syntax)\n",
    "ax.text(x=175, y=5500, s=\"Clear Positive Correlation\")\n",
    "\n",
    "# Adding that average line back on\n",
    "ax.vlines(penguins['flipper_length_mm'].mean(),\n",
    "          ymin=penguins['body_mass_g'].min(), ymax=penguins['body_mass_g'].max(),\n",
    "          color='red')\n",
    "\n",
    "# Now let's annotate the line but add an arrow for emphasis!\n",
    "None\n",
    "\n",
    "ax.set_xlabel('Flipper Length (mm)')\n",
    "ax.set_ylabel('Body Mass (g)')\n",
    "ax.set_title('Relationship Between Flipper Length and Body Mass among Penguins')\n",
    "\n",
    "plt.tight_layout()"
   ]
  },
  {
   "cell_type": "markdown",
   "metadata": {},
   "source": [
    "#### Adjust the axis labels to more clearly show the scale of our plots"
   ]
  },
  {
   "cell_type": "code",
   "execution_count": 1,
   "metadata": {},
   "outputs": [],
   "source": [
    "# need a new import\n",
    "from matplotlib.ticker import StrMethodFormatter"
   ]
  },
  {
   "cell_type": "code",
   "execution_count": null,
   "metadata": {},
   "outputs": [],
   "source": [
    "fig, ax = plt.subplots(figsize=(6, 4))\n",
    "\n",
    "ax.scatter(x=penguins['flipper_length_mm'], y=penguins['body_mass_g'])\n",
    "\n",
    "# Set the major formatter and use fstring notation to adjust the axes\n",
    "None\n",
    "None\n",
    "\n",
    "# Can also rotate the xaxis to make it more legible\n",
    "None\n",
    "\n",
    "ax.set_xlabel('Flipper Length')\n",
    "ax.set_ylabel('Body Mass')\n",
    "ax.set_title('Relationship Between Flipper Length and Body Mass among Penguins')\n",
    "\n",
    "plt.tight_layout()"
   ]
  },
  {
   "cell_type": "markdown",
   "metadata": {},
   "source": [
    "#### Save the plot as an image file"
   ]
  },
  {
   "cell_type": "code",
   "execution_count": null,
   "metadata": {
    "scrolled": true
   },
   "outputs": [],
   "source": [
    "fig, ax = plt.subplots(figsize=(6, 4))\n",
    "\n",
    "ax.scatter(x=penguins['flipper_length_mm'], y=penguins['body_mass_g'])\n",
    "\n",
    "# Set the major formatter and use fstring notation to adjust the axes\n",
    "ax.xaxis.set_major_formatter(StrMethodFormatter('{x:.0f}mm'))\n",
    "ax.yaxis.set_major_formatter(StrMethodFormatter('{x:,.0f}g'))\n",
    "\n",
    "ax.set_xlabel('Flipper Length')\n",
    "ax.set_ylabel('Body Mass')\n",
    "ax.set_title('Relationship Between Flipper Length and Body Mass among Penguins')\n",
    "\n",
    "# Save the figure - needs a relative path/name, plus the image file type\n",
    "plt.savefig('images/flipper_length_body_mass.png')"
   ]
  },
  {
   "cell_type": "markdown",
   "metadata": {},
   "source": [
    "# YOUR TURN"
   ]
  },
  {
   "cell_type": "markdown",
   "metadata": {},
   "source": [
    "## Back to our Austin Animal Center Data\n",
    "\n",
    "We'll set up the data and some visualizations together."
   ]
  },
  {
   "cell_type": "code",
   "execution_count": null,
   "metadata": {},
   "outputs": [],
   "source": [
    "# Read in our data - and let's go ahead and parse the dates in the DateTime column\n",
    "df = pd.read_csv('data/Austin_Animal_Center_Intakes-clean-year.csv',\n",
    "                 parse_dates=['DateTime'])"
   ]
  },
  {
   "cell_type": "code",
   "execution_count": null,
   "metadata": {},
   "outputs": [],
   "source": [
    "# Check it out\n",
    "df.head()"
   ]
  },
  {
   "cell_type": "code",
   "execution_count": null,
   "metadata": {
    "scrolled": true
   },
   "outputs": [],
   "source": [
    "# Check the dataframe's info to make sure the dates were parsed correctly\n",
    "df.info()"
   ]
  },
  {
   "cell_type": "markdown",
   "metadata": {},
   "source": [
    "## What Are The Most Common Animal Types?"
   ]
  },
  {
   "cell_type": "code",
   "execution_count": null,
   "metadata": {},
   "outputs": [],
   "source": [
    "# can access the data we need with value counts\n",
    "types_count = \n",
    "types_count"
   ]
  },
  {
   "cell_type": "markdown",
   "metadata": {},
   "source": [
    "What kind of plot should we use to visualize the answer to this question?\n",
    "\n",
    "- Likely answers: bar graph, pie chart\n"
   ]
  },
  {
   "cell_type": "code",
   "execution_count": null,
   "metadata": {
    "scrolled": true
   },
   "outputs": [],
   "source": [
    "# Code here to create that plot\n",
    "types_count.plot(kind='bar');"
   ]
  },
  {
   "cell_type": "markdown",
   "metadata": {},
   "source": [
    "### Your Task: Improve This Visualization!\n",
    "\n",
    "Your goal is to visualize what you think the purpose of the plot is - adjust colors or plot type, add annotations, etc etc to make this plot more effective. You'll be in small groups for about 10 minutes, then we'll come back and share!"
   ]
  },
  {
   "cell_type": "code",
   "execution_count": null,
   "metadata": {},
   "outputs": [],
   "source": [
    "# Your code here"
   ]
  },
  {
   "cell_type": "markdown",
   "metadata": {},
   "source": [
    "<details>\n",
    "    <summary>Hidden code: One way to improve the plot</summary>\n",
    "    \n",
    "```python\n",
    "fig, ax = plt.subplots(figsize=(8, 6))\n",
    "\n",
    "# Making the bar chart horizonal to more easily read animal types\n",
    "ax.barh(types_count.index, types_count)\n",
    "\n",
    "# inverting y axis so it shows in size order\n",
    "ax.invert_yaxis()\n",
    "\n",
    "# looping over the animals to annotate with percentages\n",
    "for animal in types_count.index:\n",
    "    perc = (types_count[animal]/len(df))*100\n",
    "    if animal == \"Dog\": # so it doesn't go beyond the spline of the plot\n",
    "        ax.annotate(f\"{perc:.2f}%\", (types_count[animal] - 7500, animal))\n",
    "    else:\n",
    "        ax.annotate(f\"{perc:.2f}%\", (types_count[animal] + 1000, animal))\n",
    "        \n",
    "# adjusting the X axis format to add commas\n",
    "ax.xaxis.set_major_formatter(StrMethodFormatter('{x:,.0f}'))\n",
    "\n",
    "ax.set_title(\"Most Common Animal Types\")\n",
    "ax.set_ylabel(\"Animal Type\")\n",
    "ax.set_xlabel(\"Counts\")\n",
    "plt.show()\n",
    "```\n",
    "</details>"
   ]
  },
  {
   "cell_type": "markdown",
   "metadata": {},
   "source": [
    "Discuss:\n",
    "\n",
    "- \n"
   ]
  },
  {
   "cell_type": "markdown",
   "metadata": {
    "heading_collapsed": true
   },
   "source": [
    "## Creating Multiple Plots (Axes)"
   ]
  },
  {
   "cell_type": "markdown",
   "metadata": {
    "hidden": true
   },
   "source": [
    "Sometimes we want multiple plots to be a part of the same figure."
   ]
  },
  {
   "cell_type": "code",
   "execution_count": null,
   "metadata": {
    "hidden": true
   },
   "outputs": [],
   "source": [
    "fig, ax = plt.subplots(nrows=2, ncols=3, figsize=(8, 6))\n",
    "# The above line gives me a figure with six subplots,\n",
    "# arranged in two rows of three.\n",
    "\n",
    "X = np.linspace(-3, 3, 100)\n",
    "Ys = [[j*x for x in X] for j in range(1, 7)]\n",
    "\n",
    "ax[0, 0].plot(X, Ys[0], c='red')\n",
    "ax[0, 0].set_title('y=x')\n",
    "\n",
    "ax[0, 1].plot(X, Ys[1], c='orange')\n",
    "ax[0, 1].set_title('y=2x')\n",
    "\n",
    "ax[0, 2].plot(X, Ys[2], c='yellow')\n",
    "ax[0, 2].set_title('y=3x')\n",
    "\n",
    "ax[1, 0].plot(X, Ys[3], c='green')\n",
    "ax[1, 0].set_title('y=4x')\n",
    "\n",
    "ax[1, 1].plot(X, Ys[4], c='blue')\n",
    "ax[1, 1].set_title('y=5x')\n",
    "\n",
    "ax[1, 2].plot(X, Ys[5], c='purple')\n",
    "ax[1, 2].set_title('y=6x')\n",
    "\n",
    "plt.tight_layout()"
   ]
  },
  {
   "cell_type": "markdown",
   "metadata": {
    "heading_collapsed": true,
    "hidden": true
   },
   "source": [
    "#### Slightly Different Notation"
   ]
  },
  {
   "cell_type": "markdown",
   "metadata": {
    "hidden": true
   },
   "source": [
    "Note we could change the notation to unpack the passed axes in different ways. This can be useful in how we use the axis to make different plots."
   ]
  },
  {
   "cell_type": "code",
   "execution_count": null,
   "metadata": {
    "hidden": true
   },
   "outputs": [],
   "source": [
    "# This saves two arrays of axes representing each row and elements referring to \n",
    "# the columns\n",
    "fig, (ax_row0, ax_row1) = plt.subplots(nrows=2, ncols=3, figsize=(8, 6))\n",
    "\n",
    "Ys = [[j*x for x in X] for j in range(1, 7)]\n",
    "\n",
    "## First Row\n",
    "ax_row0[0].plot(X, Ys[0], c='red')\n",
    "ax_row0[0].set_title('y=x')\n",
    "\n",
    "ax_row0[1].plot(X, Ys[1], c='orange')\n",
    "ax_row0[1].set_title('y=2x')\n",
    "\n",
    "ax_row0[2].plot(X, Ys[2], c='yellow')\n",
    "ax_row0[2].set_title('y=3x')\n",
    "\n",
    "## Second Row\n",
    "ax_row1[0].plot(X, Ys[3], c='green')\n",
    "ax_row1[0].set_title('y=4x')\n",
    "\n",
    "ax_row1[1].plot(X, Ys[4], c='blue')\n",
    "ax_row1[1].set_title('y=5x')\n",
    "\n",
    "ax_row1[2].plot(X, Ys[5], c='purple')\n",
    "ax_row1[2].set_title('y=6x')\n",
    "\n",
    "plt.tight_layout()"
   ]
  },
  {
   "cell_type": "code",
   "execution_count": null,
   "metadata": {
    "hidden": true
   },
   "outputs": [],
   "source": [
    "# This unpacks each axis as a separate variable\n",
    "fig, ((ax00, ax01, ax02), (ax10, ax11, ax12)) = plt.subplots(nrows=2, ncols=3, figsize=(8, 6))\n",
    "\n",
    "Ys = [[j*x for x in X] for j in range(1, 7)]\n",
    "\n",
    "## First Row\n",
    "ax00.plot(X, Ys[0], c='red')\n",
    "ax00.set_title('y=x')\n",
    "\n",
    "ax01.plot(X, Ys[1], c='orange')\n",
    "ax01.set_title('y=2x')\n",
    "\n",
    "ax02.plot(X, Ys[2], c='yellow')\n",
    "ax02.set_title('y=3x')\n",
    "\n",
    "## Second Row\n",
    "ax10.plot(X, Ys[3], c='green')\n",
    "ax10.set_title('y=4x')\n",
    "\n",
    "ax11.plot(X, Ys[4], c='blue')\n",
    "ax11.set_title('y=5x')\n",
    "\n",
    "ax12.plot(X, Ys[5], c='purple')\n",
    "ax12.set_title('y=6x')\n",
    "\n",
    "plt.tight_layout()"
   ]
  },
  {
   "cell_type": "markdown",
   "metadata": {
    "heading_collapsed": true,
    "hidden": true
   },
   "source": [
    "#### Customize Multiple Plot Grid"
   ]
  },
  {
   "cell_type": "markdown",
   "metadata": {
    "hidden": true
   },
   "source": [
    "We can add some parameters to `plt.subplots()` that allow us to treat the different axes the same"
   ]
  },
  {
   "cell_type": "code",
   "execution_count": null,
   "metadata": {
    "hidden": true
   },
   "outputs": [],
   "source": [
    "nrows = 2\n",
    "ncols = 3\n",
    "fig, ax = plt.subplots(\n",
    "    nrows=nrows,\n",
    "    ncols=ncols,\n",
    "    figsize=(8, 6),\n",
    "    sharey=True     # This allows the y-axis to be consistent\n",
    ")\n",
    "\n",
    "\n",
    "Ys = [[j*x for x in X] for j in range(1, 7)]\n",
    "colors = ['red', 'orange', 'yellow', 'green', 'blue', 'purple']\n",
    "n = 0\n",
    "\n",
    "for r in range(nrows):\n",
    "    for c in range(ncols):\n",
    "        ax[r, c].plot(X, Ys[n], c=colors[n])\n",
    "        ax[r, c].set_title(f'y={n+1}x')\n",
    "        n += 1\n",
    "\n",
    "plt.tight_layout()"
   ]
  },
  {
   "cell_type": "markdown",
   "metadata": {
    "heading_collapsed": true
   },
   "source": [
    "-----\n",
    "\n",
    "# Level Up: "
   ]
  },
  {
   "cell_type": "markdown",
   "metadata": {},
   "source": [
    "## More on Effective Visualizations\n",
    "\n",
    "Some guidelines when creating **explanatory** visualizations (which should also apply to exploratory plots):\n",
    "\n",
    "- Each graph should have **one clear point** it is trying to make. Don't try to do too much with one plot!\n",
    "\n",
    "- **Know your audience!** Come up with a use case and audience to help guide your decision-making process - if you know your audience, and you know what they care about and what they need, everything in the process gets easier\n",
    "\n",
    "- Choose the correct graph for the relationship you are trying to communicate\n",
    "\n",
    "- Label your axes and graph! It should not be difficult for someone to understand what your graph is trying to represent\n",
    "\n",
    "- People have **unconscious responses** to visuals which will effect the way they interpret information. Good visualization makes use of these natural shortcuts in cognition to convey information more efficiently\n",
    "    - Red and Down tends to be negative while Green and Up is positive\n",
    "    - Lighter hues are seen as lower values and darker is higher values\n",
    "    - Axis start at zero\n",
    "        \n",
    "__Note:__ All of these 'rules' can be broken but know that you will be working against most people's first instinct"
   ]
  },
  {
   "cell_type": "markdown",
   "metadata": {},
   "source": [
    "### What Types Work Well Consistently"
   ]
  },
  {
   "cell_type": "markdown",
   "metadata": {},
   "source": [
    "Experts and researchers found the best visual patterns humans identify well:\n",
    "\n",
    "> - Positional changes (scatter plots)\n",
    "> - Length changes (bar charts)\n",
    "\n",
    "But we're bad at understanding other patterns...\n",
    "\n",
    "> - Color hue changes \n",
    "> - Area changes (pie charts!)"
   ]
  },
  {
   "cell_type": "markdown",
   "metadata": {},
   "source": [
    "### How to Lie with Graphs"
   ]
  },
  {
   "cell_type": "markdown",
   "metadata": {},
   "source": [
    "- Graphs can be misleading\n",
    "- Consciously or unconsciously people will make decisions to lead people towards their conclusions of the data\n",
    "\n",
    "- Examples of dark patterns\n",
    "    - Changing the axis scale\n",
    "    - Using two different y axis scales to compare trends\n",
    "    - Showing cumulative data which will always be increasing to hide a downturn in a trend\n",
    "    - Pie charts (comparing degrees is not something people are good at) just use a bar chart\n",
    "    - Inconsistent units\n",
    "    - Not showing all of the data for motivated reasons\n",
    "    - Percentages not adding up to 100\n",
    "\n",
    "<img src=\"images/pie-chart-misleading.png\">\n",
    "\n",
    "[image source](http://flowingdata.com/2009/11/26/fox-news-makes-the-best-pie-chart-ever/)"
   ]
  },
  {
   "cell_type": "markdown",
   "metadata": {
    "heading_collapsed": true,
    "hidden": true
   },
   "source": [
    "## Style Sheets"
   ]
  },
  {
   "cell_type": "markdown",
   "metadata": {
    "hidden": true
   },
   "source": [
    "[Style Sheets](https://matplotlib.org/3.1.1/gallery/style_sheets/style_sheets_reference.html) can add extra customization to your plots."
   ]
  },
  {
   "cell_type": "code",
   "execution_count": null,
   "metadata": {
    "hidden": true
   },
   "outputs": [],
   "source": [
    "# Uses this \"style\" for the rest of your notebook\n"
   ]
  },
  {
   "cell_type": "code",
   "execution_count": null,
   "metadata": {
    "hidden": true
   },
   "outputs": [],
   "source": [
    "## Showing a plot with this style\n",
    "fig, ax = plt.subplots()\n",
    "\n",
    "X = np.linspace(-3, 3, 100)\n",
    "y = X**2\n",
    "ax.plot(X, y)\n",
    "ax.set_title('Parabola with words')\n",
    "ax.text(s='random comment', x=0, y=3)\n",
    "ax.annotate(text='minimum!', xy=(0, 0), xytext=(1, -4),\n",
    "           arrowprops={'facecolor': 'black'});"
   ]
  },
  {
   "cell_type": "code",
   "execution_count": null,
   "metadata": {
    "hidden": true
   },
   "outputs": [],
   "source": [
    "# Go back to the default style \n",
    "plt.style.use('default')"
   ]
  },
  {
   "cell_type": "markdown",
   "metadata": {
    "heading_collapsed": true,
    "hidden": true
   },
   "source": [
    "### Context Manager for Temporary Style"
   ]
  },
  {
   "cell_type": "markdown",
   "metadata": {
    "hidden": true
   },
   "source": [
    "We can have temporary style change by using a [context manager for our style](https://matplotlib.org/stable/tutorials/introductory/customizing.html#temporary-styling)."
   ]
  },
  {
   "cell_type": "code",
   "execution_count": null,
   "metadata": {
    "hidden": true
   },
   "outputs": [],
   "source": [
    "# Allows your us to use a temporary style just for the plot in block of code\n",
    "with plt.style.context('ggplot'):\n",
    "    fig, ax = plt.subplots()\n",
    "\n",
    "    X = np.linspace(-3, 3, 100)\n",
    "    y = X**2\n",
    "    ax.plot(X, y)\n",
    "    ax.set_title('Parabola with words')\n",
    "    ax.text(s='random comment', x=0, y=3)\n",
    "    ax.annotate('minimum!', xy=(0, 0), xytext=(1, -4),\n",
    "                arrowprops={'facecolor': 'black'})"
   ]
  },
  {
   "cell_type": "markdown",
   "metadata": {
    "heading_collapsed": true,
    "hidden": true
   },
   "source": [
    "### The xkcd Style"
   ]
  },
  {
   "cell_type": "markdown",
   "metadata": {
    "hidden": true
   },
   "source": [
    "The [xkcd style](https://matplotlib.org/stable/api/_as_gen/matplotlib.pyplot.xkcd.html) can be a convenient style when you want to emphasize that the data shouldn't be taken seriously (such as an estimate versus showing real data)."
   ]
  },
  {
   "cell_type": "code",
   "execution_count": null,
   "metadata": {
    "hidden": true
   },
   "outputs": [],
   "source": [
    "# This also allows to use the xkcd style temporarily\n",
    "with plt.xkcd():\n",
    "    fig, ax = plt.subplots()\n",
    "\n",
    "    X = np.linspace(-3, 3, 100)\n",
    "    y = X**2\n",
    "    ax.plot(X, y)\n",
    "    ax.set_title('Parabola with words')\n",
    "    ax.text(s='random comment', x=0, y=3)\n",
    "    ax.annotate('minimum!', xy=(0, 0), xytext=(1, -4),\n",
    "                arrowprops={'facecolor': 'black'})"
   ]
  }
 ],
 "metadata": {
  "kernelspec": {
   "display_name": "Python 3",
   "language": "python",
   "name": "python3"
  },
  "language_info": {
   "codemirror_mode": {
    "name": "ipython",
    "version": 3
   },
   "file_extension": ".py",
   "mimetype": "text/x-python",
   "name": "python",
   "nbconvert_exporter": "python",
   "pygments_lexer": "ipython3",
   "version": "3.8.5"
  },
  "toc": {
   "base_numbering": 1,
   "nav_menu": {},
   "number_sections": true,
   "sideBar": true,
   "skip_h1_title": false,
   "title_cell": "Table of Contents",
   "title_sidebar": "TOC",
   "toc_cell": true,
   "toc_position": {
    "height": "calc(100% - 180px)",
    "left": "10px",
    "top": "150px",
    "width": "292px"
   },
   "toc_section_display": true,
   "toc_window_display": true
  }
 },
 "nbformat": 4,
 "nbformat_minor": 4
}
